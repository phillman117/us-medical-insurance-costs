{
 "cells": [
  {
   "cell_type": "markdown",
   "metadata": {},
   "source": [
    "# U.S. Medical Insurance Costs"
   ]
  },
  {
   "cell_type": "markdown",
   "metadata": {},
   "source": [
    "## Overview\n",
    "The database provided contains information on individuals purchasing insurance through company X. The data gathered includes the following:\n",
    "- Age\n",
    "- Sex (Binary-normative)\n",
    "- BMI\n",
    "- Number of Children\n",
    "- Smoking/Nonsmoking status\n",
    "- Region\n",
    "- Insurance Cost\n",
    "\n",
    "I've come up with the following five questions to probe the data for:\n",
    "\n",
    "* How does the average bmi compare across the different regions? Where do the healthiest men and women live?\n",
    "* ~~Which region smokes the most? How does their average BMI relate to the number of smokers?~~ Which region pays the lowest cost on average? How does it compare to the national average?\n",
    "* ~~How many smokers have children?~~  Rank the attributes from those that affect costs the most, to those that affect costs the least.\n",
    "* Which is the youngest region?\n",
    "* What are some of the issues with this data set? What information could be gathered to improve analysis?\n"
   ]
  },
  {
   "cell_type": "markdown",
   "metadata": {},
   "source": [
    "## Initialization"
   ]
  },
  {
   "cell_type": "code",
   "execution_count": 23,
   "metadata": {},
   "outputs": [],
   "source": [
    "import csv\n"
   ]
  },
  {
   "cell_type": "code",
   "execution_count": 24,
   "metadata": {},
   "outputs": [],
   "source": [
    "#test area\n"
   ]
  },
  {
   "cell_type": "markdown",
   "metadata": {},
   "source": [
    "## Question One:\n",
    "### How does the average bmi compare across the different regions? Where do the healthiest men and women live?"
   ]
  },
  {
   "cell_type": "markdown",
   "metadata": {},
   "source": [
    "First I'll break up the data, compiling lists of each region's bmi:"
   ]
  },
  {
   "cell_type": "code",
   "execution_count": 25,
   "metadata": {
    "scrolled": true
   },
   "outputs": [],
   "source": [
    "sw_bmi_list = []\n",
    "nw_bmi_list = []\n",
    "se_bmi_list = []\n",
    "ne_bmi_list = []\n",
    "\n",
    "with open('insurance.csv') as ins_csv:\n",
    "    ins_reader = csv.DictReader(ins_csv)\n",
    "    for row in ins_reader:\n",
    "        if row['region'] == 'southwest':\n",
    "            sw_bmi_list.append(row['bmi'])\n",
    "        elif row['region'] == 'northwest':\n",
    "            nw_bmi_list.append(row['bmi'])\n",
    "        elif row['region'] == 'southeast':\n",
    "            se_bmi_list.append(row['bmi'])\n",
    "        elif row['region'] == 'northeast':\n",
    "            ne_bmi_list.append(row['bmi'])\n",
    "        else:\n",
    "            pass"
   ]
  },
  {
   "cell_type": "markdown",
   "metadata": {},
   "source": [
    "Next, I'll create a function to get the average bmi:"
   ]
  },
  {
   "cell_type": "code",
   "execution_count": 26,
   "metadata": {},
   "outputs": [],
   "source": [
    "def bmi_avg(list):\n",
    "    total_bmi = 0.0\n",
    "    for i in list:\n",
    "        total_bmi += float(i)\n",
    "    avg_bmi = round(total_bmi/len(list), 2)\n",
    "    \n",
    "    return avg_bmi"
   ]
  },
  {
   "cell_type": "markdown",
   "metadata": {},
   "source": [
    "Finally, let's get our averages for each region"
   ]
  },
  {
   "cell_type": "code",
   "execution_count": 27,
   "metadata": {},
   "outputs": [
    {
     "output_type": "stream",
     "name": "stdout",
     "text": [
      "The average bmi for the southwest is: 30.6\nThe average bmi for the northwest is: 29.2\nThe average bmi for the southeast is: 33.36\nThe average bmi for the northeast is: 29.17\nThe average bmi for the entire us is: 30.5825\n"
     ]
    }
   ],
   "source": [
    "avg_bmi_dict = {\n",
    "    'southwest': bmi_avg(sw_bmi_list),\n",
    "    'northwest': bmi_avg(nw_bmi_list),\n",
    "    'southeast': bmi_avg(se_bmi_list),\n",
    "    'northeast': bmi_avg(ne_bmi_list),\n",
    "    'entire us': (\n",
    "        bmi_avg(sw_bmi_list)+bmi_avg(nw_bmi_list)+bmi_avg(se_bmi_list)+bmi_avg(ne_bmi_list))/4\n",
    "}\n",
    "                \n",
    "for key in avg_bmi_dict:\n",
    "    print(\"The average bmi for the {key} is: {value}\".format(key=key, value=avg_bmi_dict[key]))"
   ]
  },
  {
   "cell_type": "markdown",
   "metadata": {},
   "source": [
    "### What does this tell us?\n",
    "First, let's acknowledge that bmi is inherently flawed. There are a litany of examples of why this is, but explaining the why is out of this project's scope. With that out of the way, we see that the Northeast region is the healthiest of the regions, while the Southeast is the least healthy. It would be interesting to see how GDP of each region stacks up with bmi, as the SE is likely the most economically depressed region of the US.\n",
    "\n",
    "### What else can we do with this data?\n",
    "Getting the average bmi across each region is a bit broad. Now that I've worked with the data a bit, I'd like to find data on more specific demographics.\n",
    "\n",
    "We can create a class for each region that would break bmi data down by sex, age group, smoking status, and how many children they have:"
   ]
  },
  {
   "cell_type": "code",
   "execution_count": 28,
   "metadata": {},
   "outputs": [],
   "source": [
    "class BmiBreakdown:\n",
    "    def __init__(self, dict):\n",
    "        self.under_30_bmi_lst = []\n",
    "        self.over_29_bmi_lst = []\n",
    "        self.female_bmi_lst = []\n",
    "        self.male_bmi_lst = []\n",
    "        #Parents will be segregated by parenthood status as well as number of children (1, 2, and >=3)\n",
    "        self.nonparent_bmi_lst = []\n",
    "        self.parent_bmi_lst = []\n",
    "        self.parent_1_bmi_lst = []\n",
    "        self.parent_2_bmi_lst = []\n",
    "        self.parent_3up_bmi_lst = []\n",
    "        self.smoker_bmi_lst = []\n",
    "        self.nonsmoker_bmi_lst = []\n",
    "        self.population = len(dict)\n",
    "        for key in dict:\n",
    "            #BMI based on age\n",
    "            for value in dict[key]:\n",
    "                if value == 'age':\n",
    "                    if int(dict[key]['age']) < 30:\n",
    "                        self.under_30_bmi_lst.append(dict[key]['bmi'])\n",
    "                    elif int(dict[key]['age']) >= 30:\n",
    "                        self.over_29_bmi_lst.append(dict[key]['bmi'])\n",
    "            #BMI based on sex\n",
    "                elif value == 'sex':\n",
    "                    if dict[key]['sex'] == 'female':\n",
    "                        self.female_bmi_lst.append(dict[key]['bmi'])\n",
    "                    elif dict[key]['sex'] == 'male':\n",
    "                        self.male_bmi_lst.append(dict[key]['bmi'])\n",
    "            #BMI based on parent status\n",
    "                elif value == 'children':\n",
    "                    if int(dict[key]['children']) > 0:\n",
    "                        self.parent_bmi_lst.append(dict[key]['bmi'])\n",
    "                    #BMI based on number of children    \n",
    "                        if int(dict[key]['children']) == 1:\n",
    "                            self.parent_1_bmi_lst.append(dict[key]['bmi'])\n",
    "                        elif int(dict[key]['children']) == 2:\n",
    "                            self.parent_2_bmi_lst.append(dict[key]['bmi'])\n",
    "                        elif int(dict[key]['children']) >= 3:\n",
    "                            self.parent_3up_bmi_lst.append(dict[key]['bmi'])       \n",
    "                    else:\n",
    "                        self.nonparent_bmi_lst.append(dict[key]['bmi'])\n",
    "                #BMI based on smoking status\n",
    "                elif value == 'smoker':\n",
    "                    if dict[key]['smoker'] == 'yes':\n",
    "                        self.smoker_bmi_lst.append(dict[key]['bmi'])\n",
    "                    else:\n",
    "                        self.nonsmoker_bmi_lst.append(dict[key]['bmi'])\n",
    "                else:\n",
    "                    pass\n",
    "\n",
    "#Methods based on age:\n",
    "    def avg_under_30(self):\n",
    "        total_bmi = 0.0\n",
    "        for i in self.under_30_bmi_lst:\n",
    "            total_bmi += float(i)\n",
    "        avg_bmi = total_bmi / len(self.under_30_bmi_lst)\n",
    "        return round(avg_bmi, 2)\n",
    "\n",
    "    def avg_over_29(self):\n",
    "        total_bmi = 0.0\n",
    "        for i in self.over_29_bmi_lst:\n",
    "            total_bmi += float(i)\n",
    "        avg_bmi = total_bmi / len(self.over_29_bmi_lst)\n",
    "        return round(avg_bmi, 2)\n",
    "    \n",
    "#Methods based on sex:\n",
    "    def avg_female(self):\n",
    "        total_bmi = 0.0\n",
    "        for i in self.female_bmi_lst:\n",
    "            total_bmi += float(i)\n",
    "        avg_bmi = total_bmi / len(self.female_bmi_lst)\n",
    "        return round(avg_bmi, 2)\n",
    "    \n",
    "    def avg_male(self):\n",
    "        total_bmi = 0.0\n",
    "        for i in self.male_bmi_lst:\n",
    "            total_bmi += float(i)\n",
    "        avg_bmi = total_bmi / len(self.male_bmi_lst)\n",
    "        return round(avg_bmi, 2)\n",
    "    \n",
    "#Methods based on parental status:\n",
    "    def avg_nonparent(self):\n",
    "        total_bmi = 0.0\n",
    "        for i in self.nonparent_bmi_lst:\n",
    "            total_bmi += float(i)\n",
    "        avg_bmi = total_bmi / len(self.nonparent_bmi_lst)\n",
    "        return round(avg_bmi, 2)\n",
    "    \n",
    "    def avg_parent(self):\n",
    "        total_bmi = 0.0\n",
    "        for i in self.parent_bmi_lst:\n",
    "            total_bmi += float(i)\n",
    "        avg_bmi = total_bmi / len(self.parent_bmi_lst)\n",
    "        return round(avg_bmi, 2)\n",
    "\n",
    "#Parents broken down into number of children\n",
    "    def avg_parent_1(self):\n",
    "        total_bmi = 0.0\n",
    "        for i in self.parent_1_bmi_lst:\n",
    "            total_bmi += float(i)\n",
    "        avg_bmi = total_bmi / len(self.parent_1_bmi_lst)\n",
    "        return round(avg_bmi, 2)\n",
    "    \n",
    "    def avg_parent_2(self):\n",
    "        total_bmi = 0.0\n",
    "        for i in self.parent_2_bmi_lst:\n",
    "            total_bmi += float(i)\n",
    "        avg_bmi = total_bmi / len(self.parent_2_bmi_lst)\n",
    "        return round(avg_bmi, 2)\n",
    "\n",
    "    def avg_parent_3up(self):\n",
    "        total_bmi = 0.0\n",
    "        for i in self.parent_3up_bmi_lst:\n",
    "            total_bmi += float(i)\n",
    "        avg_bmi = total_bmi / len(self.parent_3up_bmi_lst)\n",
    "        return round(avg_bmi, 2)\n",
    "    \n",
    "#Methods based on Smoking status:\n",
    "    def avg_smoker(self):\n",
    "        total_bmi = 0.0\n",
    "        for i in self.smoker_bmi_lst:\n",
    "            total_bmi += float(i)\n",
    "        avg_bmi = total_bmi / len(self.smoker_bmi_lst)\n",
    "        return round(avg_bmi, 2)\n",
    "    \n",
    "    def avg_nonsmoker(self):\n",
    "        total_bmi = 0.0\n",
    "        for i in self.nonsmoker_bmi_lst:\n",
    "            total_bmi += float(i)\n",
    "        avg_bmi = total_bmi / len(self.nonsmoker_bmi_lst)\n",
    "        return round(avg_bmi, 2)"
   ]
  },
  {
   "cell_type": "markdown",
   "metadata": {},
   "source": [
    "### Dictionary Creation\n",
    "The Class I've created's constructor requires a dictionary as an argument, so let's break the data down into four dictionaries, one for each region:"
   ]
  },
  {
   "cell_type": "code",
   "execution_count": 29,
   "metadata": {},
   "outputs": [],
   "source": [
    "sw_dict = {}\n",
    "nw_dict = {}\n",
    "se_dict = {}\n",
    "ne_dict = {}\n",
    "\n",
    "with open('insurance.csv') as ins_csv:\n",
    "    primary_key = 0\n",
    "    ins_reader = csv.DictReader(ins_csv)\n",
    "    for row in ins_reader:\n",
    "        if row['region'] == 'southwest':\n",
    "            sw_dict[primary_key] = row\n",
    "            primary_key += 1\n",
    "        elif row['region'] == 'northwest':\n",
    "            nw_dict[primary_key] = row\n",
    "            primary_key += 1\n",
    "        elif row['region'] == 'southeast':\n",
    "            se_dict[primary_key] = row\n",
    "            primary_key += 1\n",
    "        elif row['region'] == 'northeast':\n",
    "            ne_dict[primary_key] = row\n",
    "            primary_key += 1\n",
    "        else:\n",
    "            pass"
   ]
  },
  {
   "cell_type": "markdown",
   "metadata": {},
   "source": [
    "## Using the BmiBreakdown class\n",
    "\n",
    "Let's probe the data a bit, see what we come up with. First, create our objects:"
   ]
  },
  {
   "cell_type": "code",
   "execution_count": 30,
   "metadata": {},
   "outputs": [],
   "source": [
    "sw_bmi_breakdown = BmiBreakdown(sw_dict)\n",
    "nw_bmi_breakdown = BmiBreakdown(nw_dict)\n",
    "se_bmi_breakdown = BmiBreakdown(se_dict)\n",
    "ne_bmi_breakdown = BmiBreakdown(ne_dict)\n"
   ]
  },
  {
   "cell_type": "markdown",
   "metadata": {},
   "source": [
    "\n",
    "### Question 1.a:\n",
    "How fit is each regions under 30 population? How does it compare to those 30 and older? How does each demographic compare to the mean BMI of the region?"
   ]
  },
  {
   "cell_type": "code",
   "execution_count": 31,
   "metadata": {},
   "outputs": [
    {
     "output_type": "stream",
     "name": "stdout",
     "text": [
      "The average bmi of people under 30 in the southwest is: 29.08\nThe average bmi of over the age of 29 in the southwest is: 31.26\nThe average bmi of the region is: 30.6\nThe average bmi of the entire US is: 30.5825\n\nThe average bmi of people under 30 in the northwest is: 28.54\nThe average bmi of over the age of 29 in the northwest is: 29.5\nThe average bmi of the region is: 29.2\nThe average bmi of the entire US is: 30.5825\n\nThe average bmi of people under 30 in the southeast is: 33.3\nThe average bmi of over the age of 29 in the southeast is: 33.38\nThe average bmi of the region is: 33.36\nThe average bmi of the entire US is: 30.5825\n\nThe average bmi of people under 30 in the northeast is: 28.0\nThe average bmi of over the age of 29 in the northeast is: 29.71\nThe average bmi of the region is: 29.17\nThe average bmi of the entire US is: 30.5825\n\n"
     ]
    }
   ],
   "source": [
    "under_30_avg_bmi_dict = {\n",
    "    'southwest': sw_bmi_breakdown.avg_under_30(),\n",
    "    'northwest': nw_bmi_breakdown.avg_under_30(),\n",
    "    'southeast': se_bmi_breakdown.avg_under_30(),\n",
    "    'northeast': ne_bmi_breakdown.avg_under_30()\n",
    "}\n",
    "\n",
    "over_29_avg_bmi_dict = {\n",
    "    'southwest': sw_bmi_breakdown.avg_over_29(),\n",
    "    'northwest': nw_bmi_breakdown.avg_over_29(),\n",
    "    'southeast': se_bmi_breakdown.avg_over_29(),\n",
    "    'northeast': ne_bmi_breakdown.avg_over_29()\n",
    "}\n",
    "\n",
    "for key in under_30_avg_bmi_dict:\n",
    "    print(\"The average bmi of people under 30 in the \" + key + \" is: \" + str(under_30_avg_bmi_dict[key]))\n",
    "    print(\"The average bmi of over the age of 29 in the \" + key + \" is: \" + str(over_29_avg_bmi_dict[key]))\n",
    "    print(\"The average bmi of the region is: \" + str(avg_bmi_dict[key]))\n",
    "    print(\"The average bmi of the entire US is: \" + str(avg_bmi_dict['entire us']))\n",
    "    print('')\n"
   ]
  },
  {
   "cell_type": "markdown",
   "metadata": {},
   "source": [
    "#### A note: \n",
    "- After completing question 1.a, I think my outputs are a bit verbose and difficult to immediately grasp. Going forward I'm going to assign a *distance from local mean* and *distance to national mean* variable to each demographic.\n",
    "\n",
    "### Question 1.b\n",
    "How many smokers are in each region? How does their BMI compare to nonsmokers?"
   ]
  },
  {
   "cell_type": "code",
   "execution_count": 34,
   "metadata": {},
   "outputs": [
    {
     "output_type": "stream",
     "name": "stdout",
     "text": [
      "There are 58 smokers in the southwest (17.85% of the regional population)\nTheir average bmi is 31.01\nThis is 0.41 higher than the regional mean bmi of 30.6\nThis is 0.43 higher than the national mean bmi of 30.5825\n\nThere are 267 nonsmokers in the southwest (82.15% of the population)\nTheir average bmi is 30.51\nThis is 0.09 less than the regional mean bmi of 30.6\nThis is 0.07 less than the national mean bmi of 30.5825\n\n \n\nThere are 58 smokers in the northwest (17.85% of the regional population)\nTheir average bmi is 29.14\nThis is 0.06 less than the regional mean bmi of 29.2\nThis is 1.44 less than the national mean bmi of 30.5825\n\nThere are 267 nonsmokers in the northwest (82.15% of the population)\nTheir average bmi is 29.21\nThis is 0.01 higher than the regional mean bmi of 29.2\nThis is 1.37 less than the national mean bmi of 30.5825\n\n \n\nThere are 91 smokers in the southeast (25.0% of the regional population)\nTheir average bmi is 33.1\nThis is 0.26 less than the regional mean bmi of 33.36\nThis is 2.52 higher than the national mean bmi of 30.5825\n\nThere are 273 nonsmokers in the southeast (75.0% of the population)\nTheir average bmi is 33.44\nThis is 0.08 higher than the regional mean bmi of 33.36\nThis is 2.86 higher than the national mean bmi of 30.5825\n\n \n\nThere are 67 smokers in the northeast (20.68% of the regional population)\nTheir average bmi is 28.57\nThis is 0.6 less than the regional mean bmi of 29.17\nThis is 2.01 less than the national mean bmi of 30.5825\n\nThere are 257 nonsmokers in the northeast (79.32% of the population)\nTheir average bmi is 29.33\nThis is 0.16 higher than the regional mean bmi of 29.17\nThis is 1.25 less than the national mean bmi of 30.5825\n\n \n\nEND\n"
     ]
    }
   ],
   "source": [
    "#create dictionaries, one key per region, each key is assigned three values: number of smokers/nonsmokers, avg bmi of smokers/nonsmokers, and total population of the region\n",
    "smoker_bmi_dict = {\n",
    "    'southwest': {\n",
    "        \"smoker_pop\": len(sw_bmi_breakdown.smoker_bmi_lst), \n",
    "        \"avg_bmi\": sw_bmi_breakdown.avg_smoker(), \n",
    "        \"region_pop\": sw_bmi_breakdown.population\n",
    "        }, \n",
    "    'northwest': {\n",
    "        \"smoker_pop\": len(nw_bmi_breakdown.smoker_bmi_lst), \n",
    "        \"avg_bmi\": nw_bmi_breakdown.avg_smoker(), \n",
    "        \"region_pop\": nw_bmi_breakdown.population\n",
    "        },\n",
    "    'southeast': {\n",
    "        \"smoker_pop\": len(se_bmi_breakdown.smoker_bmi_lst), \n",
    "        \"avg_bmi\": se_bmi_breakdown.avg_smoker(), \n",
    "        \"region_pop\": se_bmi_breakdown.population\n",
    "        },\n",
    "    'northeast': {\n",
    "        \"smoker_pop\": len(ne_bmi_breakdown.smoker_bmi_lst), \n",
    "        \"avg_bmi\": ne_bmi_breakdown.avg_smoker(), \n",
    "        \"region_pop\": ne_bmi_breakdown.population\n",
    "        }\n",
    "    }\n",
    "\n",
    "\n",
    "nonsmoker_bmi_dict = {\n",
    "    'southwest': {\n",
    "        \"nonsmoker_pop\": len(sw_bmi_breakdown.nonsmoker_bmi_lst), \n",
    "        \"avg_bmi\": sw_bmi_breakdown.avg_nonsmoker(), \n",
    "        \"region_pop\": nw_bmi_breakdown.population\n",
    "        },\n",
    "    'northwest': {\n",
    "        \"nonsmoker_pop\": len(nw_bmi_breakdown.nonsmoker_bmi_lst), \n",
    "        \"avg_bmi\": nw_bmi_breakdown.avg_nonsmoker(), \n",
    "        \"region_pop\": nw_bmi_breakdown.population\n",
    "        },\n",
    "    'southeast': {\n",
    "        \"nonsmoker_pop\": len(se_bmi_breakdown.nonsmoker_bmi_lst), \n",
    "        \"avg_bmi\": se_bmi_breakdown.avg_nonsmoker(), \n",
    "        \"region_pop\": se_bmi_breakdown.population\n",
    "        },\n",
    "    'northeast': {\n",
    "        \"nonsmoker_pop\": len(ne_bmi_breakdown.nonsmoker_bmi_lst), \n",
    "        \"avg_bmi\": ne_bmi_breakdown.avg_nonsmoker(), \n",
    "        \"region_pop\": ne_bmi_breakdown.population\n",
    "        }\n",
    "    }\n",
    "\n",
    "#output the smoker results\n",
    "for key in smoker_bmi_dict:\n",
    "    print(\"There are {num} smokers in the {region} ({pct}% of the regional population)\".format(\n",
    "        num=smoker_bmi_dict[key][\"smoker_pop\"], region=key, pct=round(smoker_bmi_dict[key][\"smoker_pop\"]/smoker_bmi_dict[key][\"region_pop\"]*100, 2)\n",
    "        )\n",
    "    )\n",
    "    print(\"Their average bmi is {bmi}\".format(bmi=smoker_bmi_dict[key][\"avg_bmi\"]))\n",
    "    #Compare smoker results to the regional mean\n",
    "    if avg_bmi_dict[key] > smoker_bmi_dict[key][\"avg_bmi\"]:\n",
    "        print(\"This is {diff} less than the regional mean bmi of {avg}\".format(diff=round(abs(avg_bmi_dict[key]-smoker_bmi_dict[key][\"avg_bmi\"]),2), avg=avg_bmi_dict[key]))\n",
    "    elif avg_bmi_dict[key] < smoker_bmi_dict[key][\"avg_bmi\"]:\n",
    "        print(\"This is {diff} higher than the regional mean bmi of {avg}\".format(diff=round(abs(avg_bmi_dict[key]-smoker_bmi_dict[key][\"avg_bmi\"]),2), avg=avg_bmi_dict[key]))\n",
    "    #Compare smoker results to the national mean\n",
    "    if avg_bmi_dict['entire us'] > smoker_bmi_dict[key][\"avg_bmi\"]:\n",
    "        print(\"This is {diff} less than the national mean bmi of {avg}\".format(diff=round(abs(avg_bmi_dict['entire us']-smoker_bmi_dict[key][\"avg_bmi\"]),2), avg=avg_bmi_dict['entire us']))\n",
    "    elif avg_bmi_dict['entire us'] < smoker_bmi_dict[key][\"avg_bmi\"]:\n",
    "        print(\"This is {diff} higher than the national mean bmi of {avg}\".format(diff=round(abs(avg_bmi_dict['entire us']-smoker_bmi_dict[key][\"avg_bmi\"]),2), avg=avg_bmi_dict['entire us']))\n",
    "    else:\n",
    "        print(\"This is about the same BMI as the national average.\")\n",
    "    print(\"\")\n",
    "\n",
    "#output the nonsmoker results\n",
    "    print(\"There are {num} nonsmokers in the {region} ({pct}% of the population)\".format(\n",
    "        num=nonsmoker_bmi_dict[key][\"nonsmoker_pop\"], region=key, pct=round(nonsmoker_bmi_dict[key][\"nonsmoker_pop\"]/nonsmoker_bmi_dict[key][\"region_pop\"]*100, 2)\n",
    "        )\n",
    "    )\n",
    "    print(\"Their average bmi is {bmi}\".format(bmi=nonsmoker_bmi_dict[key][\"avg_bmi\"]))\n",
    "    #Compare nonsmoker results to the regional mean\n",
    "    if avg_bmi_dict[key] > nonsmoker_bmi_dict[key][\"avg_bmi\"]:\n",
    "        print(\"This is {diff} less than the regional mean bmi of {avg}\".format(diff=round(abs(avg_bmi_dict[key]-nonsmoker_bmi_dict[key][\"avg_bmi\"]),2), avg=avg_bmi_dict[key]))\n",
    "    elif avg_bmi_dict[key] < nonsmoker_bmi_dict[key][\"avg_bmi\"]:\n",
    "        print(\"This is {diff} higher than the regional mean bmi of {avg}\".format(diff=round(abs(avg_bmi_dict[key]-nonsmoker_bmi_dict[key][\"avg_bmi\"]),2), avg=avg_bmi_dict[key]))\n",
    "    #Compare nonsmoker results to the national mean\n",
    "    if avg_bmi_dict['entire us'] > nonsmoker_bmi_dict[key][\"avg_bmi\"]:\n",
    "        print(\"This is {diff} less than the national mean bmi of {avg}\".format(diff=round(abs(avg_bmi_dict['entire us']-nonsmoker_bmi_dict[key][\"avg_bmi\"]),2), avg=avg_bmi_dict['entire us']))\n",
    "    elif avg_bmi_dict['entire us'] < nonsmoker_bmi_dict[key][\"avg_bmi\"]:\n",
    "        print(\"This is {diff} higher than the national mean bmi of {avg}\".format(diff=round(abs(avg_bmi_dict['entire us']-nonsmoker_bmi_dict[key][\"avg_bmi\"]),2), avg=avg_bmi_dict['entire us']))\n",
    "    else:\n",
    "        print(\"This is about the same BMI as the national average.\")\n",
    "    print(\"\\n \\n\")\n",
    "    \n",
    "print(\"END\")\n"
   ]
  },
  {
   "cell_type": "markdown",
   "metadata": {},
   "source": [
    "### Take Aways:\n",
    "- The East smokes more than the West\n",
    "- Smoking status correlates with lower BMI in the NW, SE and NE\n",
    "    - Follow up question: why? I would love to cross reference this with:\n",
    "        - regional grocery store data\n",
    "        - economic data (wealth, income, predominant job sectors)\n",
    "        - legal data (smoking laws)\n",
    "        - average population density (like, the average walkability score of households)"
   ]
  },
  {
   "cell_type": "markdown",
   "metadata": {},
   "source": [
    "### Question 2:\n",
    "Which region pays the lowest cost on average? How does it compare to the national average?\n",
    "\n",
    "I will re-jigger the BmiBreakdown class to a ChargeBreakdown class:"
   ]
  },
  {
   "cell_type": "code",
   "execution_count": 41,
   "metadata": {},
   "outputs": [],
   "source": [
    "class ChargesBreakdown:\n",
    "    def __init__(self, dict):\n",
    "        self.all_charges = []\n",
    "        self.under_30_charges_lst = []\n",
    "        self.over_29_charges_lst = []\n",
    "        self.female_charges_lst = []\n",
    "        self.male_charges_lst = []\n",
    "        #Parents will be segregated by parenthood status as well as number of children (1, 2, and >=3)\n",
    "        self.nonparent_charges_lst = []\n",
    "        self.parent_charges_lst = []\n",
    "        self.parent_1_charges_lst = []\n",
    "        self.parent_2_charges_lst = []\n",
    "        self.parent_3up_charges_lst = []\n",
    "        self.smoker_charges_lst = []\n",
    "        self.nonsmoker_charges_lst = []\n",
    "        self.population = len(dict)\n",
    "        for key in dict:\n",
    "            #charges based on age\n",
    "            for value in dict[key]:\n",
    "                if value == 'age':\n",
    "                    if int(dict[key]['age']) < 30:\n",
    "                        self.under_30_charges_lst.append(dict[key]['charges'])\n",
    "                    elif int(dict[key]['age']) >= 30:\n",
    "                        self.over_29_charges_lst.append(dict[key]['charges'])\n",
    "            #charges based on sex\n",
    "                elif value == 'sex':\n",
    "                    if dict[key]['sex'] == 'female':\n",
    "                        self.female_charges_lst.append(dict[key]['charges'])\n",
    "                    elif dict[key]['sex'] == 'male':\n",
    "                        self.male_charges_lst.append(dict[key]['charges'])\n",
    "            #charges based on parent status\n",
    "                elif value == 'children':\n",
    "                    if int(dict[key]['children']) > 0:\n",
    "                        self.parent_charges_lst.append(dict[key]['charges'])\n",
    "                    #BMI based on number of children    \n",
    "                        if int(dict[key]['children']) == 1:\n",
    "                            self.parent_1_charges_lst.append(dict[key]['charges'])\n",
    "                        elif int(dict[key]['children']) == 2:\n",
    "                            self.parent_2_charges_lst.append(dict[key]['charges'])\n",
    "                        elif int(dict[key]['children']) >= 3:\n",
    "                            self.parent_3up_charges_lst.append(dict[key]['charges'])       \n",
    "                    else:\n",
    "                        self.nonparent_charges_lst.append(dict[key]['charges'])\n",
    "                #charges based on smoking status\n",
    "                elif value == 'smoker':\n",
    "                    if dict[key]['smoker'] == 'yes':\n",
    "                        self.smoker_charges_lst.append(dict[key]['charges'])\n",
    "                    else:\n",
    "                        self.nonsmoker_charges_lst.append(dict[key]['charges'])\n",
    "                elif value == 'charges':\n",
    "                    self.all_charges.append(dict[key][value])\n",
    "                else:\n",
    "                    pass\n",
    "\n",
    "#average charges method:\n",
    "    def avg_charges(self):\n",
    "        total_charges = 0.0\n",
    "        for i in self.all_charges:\n",
    "            total_charges += float(i)\n",
    "        avg_charges = total_charges / len(self.all_charges)\n",
    "        return round(avg_charges, 2)\n",
    "\n",
    "#Methods based on age:\n",
    "    def avg_under_30(self):\n",
    "        total_charges = 0.0\n",
    "        for i in self.under_30_charges_lst:\n",
    "            total_charges += float(i)\n",
    "        avg_charges = total_charges / len(self.under_30_charges_lst)\n",
    "        return round(avg_charges, 2)\n",
    "\n",
    "    def avg_over_29(self):\n",
    "        total_charges = 0.0\n",
    "        for i in self.over_29_charges_lst:\n",
    "            total_charges += float(i)\n",
    "        avg_charges = total_charges / len(self.over_29_charges_lst)\n",
    "        return round(avg_charges, 2)\n",
    "    \n",
    "#Methods based on sex:\n",
    "    def avg_female(self):\n",
    "        total_charges = 0.0\n",
    "        for i in self.female_charges_lst:\n",
    "            total_charges += float(i)\n",
    "        avg_charges = total_charges / len(self.female_charges_lst)\n",
    "        return round(avg_charges, 2)\n",
    "    \n",
    "    def avg_male(self):\n",
    "        total_charges = 0.0\n",
    "        for i in self.male_charges_lst:\n",
    "            total_charges += float(i)\n",
    "        avg_charges = total_charges / len(self.male_charges_lst)\n",
    "        return round(avg_charges, 2)\n",
    "    \n",
    "#Methods based on parental status:\n",
    "    def avg_nonparent(self):\n",
    "        total_charges = 0.0\n",
    "        for i in self.nonparent_charges_lst:\n",
    "            total_charges += float(i)\n",
    "        avg_charges = total_charges / len(self.nonparent_charges_lst)\n",
    "        return round(avg_charges, 2)\n",
    "    \n",
    "    def avg_parent(self):\n",
    "        total_charges = 0.0\n",
    "        for i in self.parent_charges_lst:\n",
    "            total_charges += float(i)\n",
    "        avg_charges = total_charges / len(self.parent_charges_lst)\n",
    "        return round(avg_charges, 2)\n",
    "\n",
    "#Parents broken down into number of children\n",
    "    def avg_parent_1(self):\n",
    "        total_charges = 0.0\n",
    "        for i in self.parent_1_charges_lst:\n",
    "            total_bmi += float(i)\n",
    "        avg_bmi = total_charges / len(self.parent_1_charges_lst)\n",
    "        return round(avg_charges, 2)\n",
    "    \n",
    "    def avg_parent_2(self):\n",
    "        total_charges = 0.0\n",
    "        for i in self.parent_2_charges_lst:\n",
    "            total_charges += float(i)\n",
    "        avg_charges = total_charges / len(self.parent_2_charges_lst)\n",
    "        return round(avg_charges, 2)\n",
    "\n",
    "    def avg_parent_3up(self):\n",
    "        total_charges = 0.0\n",
    "        for i in self.parent_3up_charges_lst:\n",
    "            total_charges += float(i)\n",
    "        avg_charges = total_charges / len(self.parent_3up_charges_lst)\n",
    "        return round(avg_charges, 2)\n",
    "    \n",
    "#Methods based on Smoking status:\n",
    "    def avg_smoker(self):\n",
    "        total_charges = 0.0\n",
    "        for i in self.smoker_charges_lst:\n",
    "            total_charges += float(i)\n",
    "        avg_charges = total_charges / len(self.smoker_charges_lst)\n",
    "        return round(avg_charges, 2)\n",
    "    \n",
    "    def avg_nonsmoker(self):\n",
    "        total_charges = 0.0\n",
    "        for i in self.nonsmoker_charges_lst:\n",
    "            total_charges += float(i)\n",
    "        avg_charges = total_charges / len(self.nonsmoker_charges_lst)\n",
    "        return round(avg_charges, 2)"
   ]
  },
  {
   "source": [
    "### I'll just copy the process that I used for BMI"
   ],
   "cell_type": "markdown",
   "metadata": {}
  },
  {
   "cell_type": "code",
   "execution_count": 42,
   "metadata": {},
   "outputs": [],
   "source": [
    "sw_charges_breakdown = ChargesBreakdown(sw_dict)\n",
    "nw_charges_breakdown = ChargesBreakdown(nw_dict)\n",
    "se_charges_breakdown = ChargesBreakdown(se_dict)\n",
    "ne_charges_breakdown = ChargesBreakdown(ne_dict)"
   ]
  },
  {
   "cell_type": "code",
   "execution_count": 44,
   "metadata": {},
   "outputs": [
    {
     "output_type": "stream",
     "name": "stdout",
     "text": [
      "12346.94\n"
     ]
    }
   ],
   "source": [
    "sw_average_charges = sw_charges_breakdown.avg_charges()\n",
    "\n",
    "print(sw_average_charges)"
   ]
  },
  {
   "cell_type": "code",
   "execution_count": null,
   "metadata": {},
   "outputs": [],
   "source": []
  },
  {
   "source": [],
   "cell_type": "markdown",
   "metadata": {}
  }
 ],
 "metadata": {
  "kernelspec": {
   "display_name": "Python 3",
   "language": "python",
   "name": "python3"
  },
  "language_info": {
   "codemirror_mode": {
    "name": "ipython",
    "version": 3
   },
   "file_extension": ".py",
   "mimetype": "text/x-python",
   "name": "python",
   "nbconvert_exporter": "python",
   "pygments_lexer": "ipython3",
   "version": "3.8.3-final"
  }
 },
 "nbformat": 4,
 "nbformat_minor": 4
}