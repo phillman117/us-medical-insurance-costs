{
 "cells": [
  {
   "cell_type": "markdown",
   "metadata": {},
   "source": [
    "# U.S. Medical Insurance Costs"
   ]
  },
  {
   "cell_type": "markdown",
   "metadata": {},
   "source": [
    "## Initialization"
   ]
  },
  {
   "cell_type": "code",
   "execution_count": 53,
   "metadata": {},
   "outputs": [],
   "source": [
    "import csv\n"
   ]
  },
  {
   "cell_type": "code",
   "execution_count": 54,
   "metadata": {},
   "outputs": [],
   "source": [
    "#testing something here\n",
    "#\"\"\"\n",
    "#sw_dict = {}\n",
    "\n",
    "#with open('insurance.csv') as ins_csv:\n",
    "#    primary_key = int('000000', 5)\n",
    "#    ins_reader = csv.DictReader(ins_csv)\n",
    "#    for row in ins_reader:\n",
    "#        if row['region'] == 'southwest':\n",
    "#            sw_dict[primary_key] = row\n",
    "#            primary_key += 1\n",
    "#        else:\n",
    "#            pass\n",
    "        \n",
    "#print(sw_dict)\n",
    "#sw_under_30_bmi = []\n",
    "#\n",
    "#for key in sw_dict:\n",
    "#    for value in sw_dict[key]:\n",
    "#        if int(sw_dict[key][value]) == 19 :\n",
    "#            print(\"Got it!\")\n",
    "#            break\n",
    "    #if int(sw_dict[key]['age']) < 30:\n",
    "     #   sw_under_30_bmi.append(sw_dict[key]['bmi'])\n",
    "    #else:\n",
    "     #   pass\n",
    "\n",
    "#print(sw_under_30_bmi)\n",
    "#\"\"\""
   ]
  },
  {
   "cell_type": "markdown",
   "metadata": {},
   "source": [
    "## Question One:\n",
    "### How does the average bmi compare across the different regions? Where do the healthiest men and women live?"
   ]
  },
  {
   "cell_type": "markdown",
   "metadata": {},
   "source": [
    "First I'll break up the data, compiling lists of each region's bmi:"
   ]
  },
  {
   "cell_type": "code",
   "execution_count": 55,
   "metadata": {
    "scrolled": true
   },
   "outputs": [],
   "source": [
    "sw_bmi_list = []\n",
    "nw_bmi_list = []\n",
    "se_bmi_list = []\n",
    "ne_bmi_list = []\n",
    "\n",
    "with open('insurance.csv') as ins_csv:\n",
    "    ins_reader = csv.DictReader(ins_csv)\n",
    "    for row in ins_reader:\n",
    "        if row['region'] == 'southwest':\n",
    "            sw_bmi_list.append(row['bmi'])\n",
    "        elif row['region'] == 'northwest':\n",
    "            nw_bmi_list.append(row['bmi'])\n",
    "        elif row['region'] == 'southeast':\n",
    "            se_bmi_list.append(row['bmi'])\n",
    "        elif row['region'] == 'northeast':\n",
    "            ne_bmi_list.append(row['bmi'])\n",
    "        else:\n",
    "            pass"
   ]
  },
  {
   "cell_type": "markdown",
   "metadata": {},
   "source": [
    "Next, I'll create a function to get the average bmi:"
   ]
  },
  {
   "cell_type": "code",
   "execution_count": 56,
   "metadata": {},
   "outputs": [],
   "source": [
    "def bmi_avg(list):\n",
    "    total_bmi = 0.0\n",
    "    for i in list:\n",
    "        total_bmi += float(i)\n",
    "    avg_bmi = round(total_bmi/len(list), 2)\n",
    "    \n",
    "    return avg_bmi"
   ]
  },
  {
   "cell_type": "markdown",
   "metadata": {},
   "source": [
    "Finally, let's get our averages for each region"
   ]
  },
  {
   "cell_type": "code",
   "execution_count": 57,
   "metadata": {},
   "outputs": [
    {
     "name": "stdout",
     "output_type": "stream",
     "text": [
      "\n",
      "The average bmi for the Southwest is: 30.6\n",
      "\n",
      "The average bmi for the Northwest is: 29.2\n",
      "\n",
      "The average bmi for the Southeast is: 33.36\n",
      "\n",
      "The average bmi for the Northeast is: 29.17\n"
     ]
    }
   ],
   "source": [
    "sw_avg_bmi = bmi_avg(sw_bmi_list)\n",
    "nw_avg_bmi = bmi_avg(nw_bmi_list)\n",
    "se_avg_bmi = bmi_avg(se_bmi_list)\n",
    "ne_avg_bmi = bmi_avg(ne_bmi_list)\n",
    "\n",
    "print(\"\"\"\n",
    "The average bmi for the Southwest is: {sw}\\n\n",
    "The average bmi for the Northwest is: {nw}\\n\n",
    "The average bmi for the Southeast is: {se}\\n\n",
    "The average bmi for the Northeast is: {ne}\"\"\".format(sw=sw_avg_bmi, nw=nw_avg_bmi, se=se_avg_bmi, ne=ne_avg_bmi))"
   ]
  },
  {
   "cell_type": "markdown",
   "metadata": {},
   "source": [
    "### What does this tell us?\n",
    "First, let's acknowledge that bmi is inherently flawed. There are a litany of examples of why this is, but explaining the why is out of this project's scope. With that out of the way, we see that the Northeast region is the healthiest of the regions, while the Southwest is the least healthy. It would be interesting to see how GDP of each region stacks up with bmi, as the SE is likely the most economically depressed region of the US.\n",
    "\n",
    "### What else can we do with this data?\n",
    "- We can create a class for each region that would break bmi data down by sex, age group, smoking status, and how many children they have!"
   ]
  },
  {
   "cell_type": "code",
   "execution_count": 74,
   "metadata": {},
   "outputs": [],
   "source": [
    "class BmiBreakdown:\n",
    "    def __init__(self, dict):\n",
    "        self.under_30_bmi_lst = []\n",
    "        self.over_29_bmi_lst = []\n",
    "        self.female_bmi_lst = []\n",
    "        self.male_bmi_lst = []\n",
    "        self.parent_bmi_lst = []\n",
    "        self.nonparent_bmi_lst = []\n",
    "        self.smoker_bmi_lst = []\n",
    "        self.nonsmoker_bmi_lst = []\n",
    "        for key in dict:\n",
    "            for value in dict[key]:\n",
    "                if value == 'age':\n",
    "                    if int(dict[key]['age']) < 30:\n",
    "                        self.under_30_bmi_lst.append(dict[key]['bmi'])\n",
    "                    elif int(dict[key]['age']) >= 30:\n",
    "                        self.over_29_bmi_lst.append(dict[key]['bmi'])\n",
    "                elif value == 'sex':\n",
    "                    if dict[key]['sex'] == 'female':\n",
    "                        self.female_bmi_lst.append(dict[key]['bmi'])\n",
    "                    elif dict[key]['sex'] == 'male':\n",
    "                        self.male_bmi_lst.append(dict[key]['bmi'])\n",
    "                elif value == 'children':\n",
    "                    if int(dict[key]['children']) > 0:\n",
    "                        self.parent_bmi_lst.append(dict[key]['bmi'])\n",
    "                    else:\n",
    "                        self.nonparent_bmi_lst.append(dict[key]['bmi'])\n",
    "                elif value == 'smoker':\n",
    "                    if dict[key]['smoker'] == 'yes':\n",
    "                        self.smoker_bmi_lst.append(dict[key]['bmi'])\n",
    "                    else:\n",
    "                        self.nonsmoker_bmi_lst.append(dict[key]['bmi'])\n",
    "                else:\n",
    "                    pass\n",
    "    \n",
    "    def avg_under_30(self):\n",
    "        total_bmi = 0.0\n",
    "        for i in self.under_30_bmi_lst:\n",
    "            total_bmi += float(i)\n",
    "        avg_bmi = total_bmi / len(self.under_30_bmi_lst)\n",
    "        return round(avg_bmi, 2)"
   ]
  },
  {
   "cell_type": "markdown",
   "metadata": {},
   "source": [
    "#### Now let's break down the csv into dicts based on region"
   ]
  },
  {
   "cell_type": "code",
   "execution_count": 75,
   "metadata": {},
   "outputs": [],
   "source": [
    "sw_dict = {}\n",
    "nw_dict = {}\n",
    "se_dict = {}\n",
    "ne_dict = {}\n",
    "\n",
    "with open('insurance.csv') as ins_csv:\n",
    "    primary_key = 0\n",
    "    ins_reader = csv.DictReader(ins_csv)\n",
    "    for row in ins_reader:\n",
    "        if row['region'] == 'southwest':\n",
    "            sw_dict[primary_key] = row\n",
    "            primary_key += 1\n",
    "        elif row['region'] == 'northwest':\n",
    "            nw_dict[primary_key] = row\n",
    "            primary_key += 1\n",
    "        elif row['region'] == 'southeast':\n",
    "            se_dict[primary_key] = row\n",
    "            primary_key += 1\n",
    "        elif row['region'] == 'northeast':\n",
    "            ne_dict[primary_key] = row\n",
    "            primary_key += 1\n",
    "        else:\n",
    "            pass"
   ]
  },
  {
   "cell_type": "markdown",
   "metadata": {},
   "source": [
    "#### And now we use our BmiBreakdown class"
   ]
  },
  {
   "cell_type": "code",
   "execution_count": 79,
   "metadata": {},
   "outputs": [
    {
     "name": "stdout",
     "output_type": "stream",
     "text": [
      "29.08\n",
      "28.54\n",
      "33.3\n",
      "28.0\n"
     ]
    }
   ],
   "source": [
    "sw_bmi_breakdown = BmiBreakdown(sw_dict)\n",
    "nw_bmi_breakdown = BmiBreakdown(nw_dict)\n",
    "se_bmi_breakdown = BmiBreakdown(se_dict)\n",
    "ne_bmi_breakdown = BmiBreakdown(ne_dict)\n",
    "\n",
    "sw_under_30_avg_bmi = sw_bmi_breakdown.avg_under_30()\n",
    "nw_under_30_avg_bmi = nw_bmi_breakdown.avg_under_30()\n",
    "se_under_30_avg_bmi = se_bmi_breakdown.avg_under_30()\n",
    "ne_under_30_avg_bmi = ne_bmi_breakdown.avg_under_30()\n",
    "print(sw_under_30_avg_bmi)\n",
    "print(nw_under_30_avg_bmi)\n",
    "print(se_under_30_avg_bmi)\n",
    "print(ne_under_30_avg_bmi)"
   ]
  },
  {
   "cell_type": "markdown",
   "metadata": {},
   "source": [
    "# WoooHoo! I'm just getting started! Next I need to finish the methods for the other bmi metrics I want to compare"
   ]
  }
 ],
 "metadata": {
  "kernelspec": {
   "display_name": "Python 3",
   "language": "python",
   "name": "python3"
  },
  "language_info": {
   "codemirror_mode": {
    "name": "ipython",
    "version": 3
   },
   "file_extension": ".py",
   "mimetype": "text/x-python",
   "name": "python",
   "nbconvert_exporter": "python",
   "pygments_lexer": "ipython3",
   "version": "3.8.3"
  }
 },
 "nbformat": 4,
 "nbformat_minor": 4
}
