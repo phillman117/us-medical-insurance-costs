{
 "cells": [
  {
   "cell_type": "markdown",
   "metadata": {},
   "source": [
    "# U.S. Medical Insurance Costs"
   ]
  },
  {
   "cell_type": "markdown",
   "metadata": {},
   "source": [
    "## Overview\n",
    "The database provided contains information on individuals purchasing insurance through company X. The data gathered includes the following:\n",
    "- Age\n",
    "- Sex (Binary-normative)\n",
    "- BMI\n",
    "- Number of Children\n",
    "- Smoking/Nonsmoking status\n",
    "- Region\n",
    "- Insurance Cost\n",
    "\n",
    "I've come up with the following five questions to probe the data for:\n",
    "1. How does the average bmi compare across the different regions? Where do the healthiest men and women live?\n",
    "2. ~~Which region smokes the most? How does their average BMI relate to the number of smokers?~~ Which region pays the lowest cost on average? How does it compare to the national average?\n",
    "3. ~~How many smokers have children?~~  Rank the attributes from those that affect costs the most, to those that affect costs the least.\n",
    "4. Which is the youngest region?\n",
    "5. What are some of the issues with this data set? What information could be gathered to improve analysis?\n"
   ]
  },
  {
   "cell_type": "markdown",
   "metadata": {},
   "source": [
    "## Initialization"
   ]
  },
  {
   "cell_type": "code",
   "execution_count": 1,
   "metadata": {},
   "outputs": [],
   "source": [
    "import csv\n"
   ]
  },
  {
   "cell_type": "code",
   "execution_count": 2,
   "metadata": {},
   "outputs": [],
   "source": [
    "#test area\n"
   ]
  },
  {
   "cell_type": "markdown",
   "metadata": {},
   "source": [
    "## Question One:\n",
    "### How does the average bmi compare across the different regions? Where do the healthiest men and women live?"
   ]
  },
  {
   "cell_type": "markdown",
   "metadata": {},
   "source": [
    "First I'll break up the data, compiling lists of each region's bmi:"
   ]
  },
  {
   "cell_type": "code",
   "execution_count": 3,
   "metadata": {
    "scrolled": true
   },
   "outputs": [],
   "source": [
    "sw_bmi_list = []\n",
    "nw_bmi_list = []\n",
    "se_bmi_list = []\n",
    "ne_bmi_list = []\n",
    "\n",
    "with open('insurance.csv') as ins_csv:\n",
    "    ins_reader = csv.DictReader(ins_csv)\n",
    "    for row in ins_reader:\n",
    "        if row['region'] == 'southwest':\n",
    "            sw_bmi_list.append(row['bmi'])\n",
    "        elif row['region'] == 'northwest':\n",
    "            nw_bmi_list.append(row['bmi'])\n",
    "        elif row['region'] == 'southeast':\n",
    "            se_bmi_list.append(row['bmi'])\n",
    "        elif row['region'] == 'northeast':\n",
    "            ne_bmi_list.append(row['bmi'])\n",
    "        else:\n",
    "            pass"
   ]
  },
  {
   "cell_type": "markdown",
   "metadata": {},
   "source": [
    "Next, I'll create a function to get the average bmi:"
   ]
  },
  {
   "cell_type": "code",
   "execution_count": 4,
   "metadata": {},
   "outputs": [],
   "source": [
    "def bmi_avg(list):\n",
    "    total_bmi = 0.0\n",
    "    for i in list:\n",
    "        total_bmi += float(i)\n",
    "    avg_bmi = round(total_bmi/len(list), 2)\n",
    "    \n",
    "    return avg_bmi"
   ]
  },
  {
   "cell_type": "markdown",
   "metadata": {},
   "source": [
    "Finally, let's get our averages for each region"
   ]
  },
  {
   "cell_type": "code",
   "execution_count": 5,
   "metadata": {},
   "outputs": [],
   "source": [
    "avg_bmi_dict = {\n",
    "    'southwest': bmi_avg(sw_bmi_list),\n",
    "    'northwest': bmi_avg(nw_bmi_list),\n",
    "    'southeast': bmi_avg(se_bmi_list),\n",
    "    'northeast': bmi_avg(ne_bmi_list),\n",
    "    'entire us': (\n",
    "        bmi_avg(sw_bmi_list)+bmi_avg(nw_bmi_list)+bmi_avg(se_bmi_list)+bmi_avg(ne_bmi_list))/4\n",
    "}\n",
    "                \n",
    "for key in avg_bmi_dict:\n",
    "    print(\"The average bmi for the {key} is: {value}\".format(key=key, value=avg_bmi_dict[key]))"
   ]
  },
  {
   "cell_type": "markdown",
   "metadata": {},
   "source": [
    "### What does this tell us?\n",
    "First, let's acknowledge that bmi is inherently flawed. There are a litany of examples of why this is, but explaining the why is out of this project's scope. With that out of the way, we see that the Northeast region is the healthiest of the regions, while the Southeast is the least healthy. It would be interesting to see how GDP of each region stacks up with bmi, as the SE is likely the most economically depressed region of the US.\n",
    "\n",
    "### What else can we do with this data?\n",
    "Getting the average bmi across each region is a bit broad. Now that I've worked with the data a bit, I'd like to find data on more specific demographics.\n",
    "\n",
    "We can create a class for each region that would break bmi data down by sex, age group, smoking status, and how many children they have:"
   ]
  },
  {
   "cell_type": "code",
   "execution_count": 1,
   "metadata": {},
   "outputs": [
    {
     "ename": "IndentationError",
     "evalue": "expected an indented block (<ipython-input-1-853501a94541>, line 32)",
     "output_type": "error",
     "traceback": [
      "\u001b[0;36m  File \u001b[0;32m\"<ipython-input-1-853501a94541>\"\u001b[0;36m, line \u001b[0;32m32\u001b[0m\n\u001b[0;31m    else:\u001b[0m\n\u001b[0m    ^\u001b[0m\n\u001b[0;31mIndentationError\u001b[0m\u001b[0;31m:\u001b[0m expected an indented block\n"
     ]
    }
   ],
   "source": [
    "class BmiBreakdown:\n",
    "    def __init__(self, dict):\n",
    "        self.under_30_bmi_lst = []\n",
    "        self.over_29_bmi_lst = []\n",
    "        self.female_bmi_lst = []\n",
    "        self.male_bmi_lst = []\n",
    "        #Parents will be segregated by parenthood status as well as number of children (1, 2, and >=3)\n",
    "        self.nonparent_bmi_lst = []\n",
    "        self.parent_bmi_lst = []\n",
    "        self.parent_1_bmi_lst = []\n",
    "        self.parent_2_bmi_lst = []\n",
    "        self.parent_3up_bmi_lst = []\n",
    "        self.smoker_bmi_lst = []\n",
    "        self.nonsmoker_bmi_lst = []\n",
    "        for key in dict:\n",
    "            for value in dict[key]:\n",
    "                if value == 'age':\n",
    "                    if int(dict[key]['age']) < 30:\n",
    "                        self.under_30_bmi_lst.append(dict[key]['bmi'])\n",
    "                    elif int(dict[key]['age']) >= 30:\n",
    "                        self.over_29_bmi_lst.append(dict[key]['bmi'])\n",
    "                elif value == 'sex':\n",
    "                    if dict[key]['sex'] == 'female':\n",
    "                        self.female_bmi_lst.append(dict[key]['bmi'])\n",
    "                    elif dict[key]['sex'] == 'male':\n",
    "                        self.male_bmi_lst.append(dict[key]['bmi'])\n",
    "                elif value == 'children':\n",
    "                    if int(dict[key]['children']) > 0:\n",
    "                        self.parent_bmi_lst.append(dict[key]['bmi'])\n",
    "                        if int(dict[key]['children']) == 1:\n",
    "                            \n",
    "                    else:\n",
    "                        self.nonparent_bmi_lst.append(dict[key]['bmi'])\n",
    "                elif value == 'smoker':\n",
    "                    if dict[key]['smoker'] == 'yes':\n",
    "                        self.smoker_bmi_lst.append(dict[key]['bmi'])\n",
    "                    else:\n",
    "                        self.nonsmoker_bmi_lst.append(dict[key]['bmi'])\n",
    "                else:\n",
    "                    pass\n",
    "\n",
    "#Methods based on age:\n",
    "    def avg_under_30(self):\n",
    "        total_bmi = 0.0\n",
    "        for i in self.under_30_bmi_lst:\n",
    "            total_bmi += float(i)\n",
    "        avg_bmi = total_bmi / len(self.under_30_bmi_lst)\n",
    "        return round(avg_bmi, 2)\n",
    "\n",
    "    def avg_over_29(self):\n",
    "        total_bmi = 0.0\n",
    "        for i in self.over_29_bmi_lst:\n",
    "            total_bmi += float(i)\n",
    "        avg_bmi = total_bmi / len(self.over_29_bmi_lst)\n",
    "        return round(avg_bmi, 2)\n",
    "    \n",
    "#Methods based on sex:\n",
    "    def avg_female(self):\n",
    "        total_bmi = 0.0\n",
    "        for i in self.female_bmi_lst:\n",
    "            total_bmi += float(i)\n",
    "        avg_bmi = total_bmi / len(self.female_bmi_lst)\n",
    "        return round(avg_bmi, 2)\n",
    "    \n",
    "    def avg_male(self):\n",
    "        total_bmi = 0.0\n",
    "        for i in self.male_bmi_lst:\n",
    "            total_bmi += float(i)\n",
    "        avg_bmi = total_bmi / len(self.male_bmi_lst)\n",
    "        return round(avg_bmi, 2)\n",
    "    \n",
    "#Methods based on parental status:\n",
    "    def avg_nonparent(self):\n",
    "        total_bmi = 0.0\n",
    "        for i in self.nonparent_bmi_lst:\n",
    "            total_bmi += float(i)\n",
    "        avg_bmi = total_bmi / len(self.nonparent_bmi_lst)\n",
    "        return round(avg_bmi, 2)\n",
    "    \n",
    "    def avg_parent(self):\n",
    "        total_bmi = 0.0\n",
    "        for i in self.parent_bmi_lst:\n",
    "            total_bmi += float(i)\n",
    "        avg_bmi = total_bmi / len(self.parent_bmi_lst)\n",
    "        return round(avg_bmi, 2)\n",
    "    \n",
    "#Methods based on Smoking status:\n",
    "    def avg_smoker(self):\n",
    "        total_bmi = 0.0\n",
    "        for i in self.smoker_bmi_lst:\n",
    "            total_bmi += float(i)\n",
    "        avg_bmi = total_bmi / len(self.smoker_bmi_lst)\n",
    "        return round(avg_bmi, 2)\n",
    "    \n",
    "    def avg_nonsmoker(self):\n",
    "        total_bmi = 0.0\n",
    "        for i in self.nonsmoker_bmi_lst:\n",
    "            total_bmi += float(i)\n",
    "        avg_bmi = total_bmi / len(self.nonsmoker_bmi_lst)\n",
    "        return round(avg_bmi, 2)"
   ]
  },
  {
   "cell_type": "markdown",
   "metadata": {},
   "source": [
    "### Dictionary Creation\n",
    "The Class I've created's constructor requires a dictionary as an argument, so let's break the data down into four dictionaries, one for each region:"
   ]
  },
  {
   "cell_type": "code",
   "execution_count": 7,
   "metadata": {},
   "outputs": [],
   "source": [
    "sw_dict = {}\n",
    "nw_dict = {}\n",
    "se_dict = {}\n",
    "ne_dict = {}\n",
    "\n",
    "with open('insurance.csv') as ins_csv:\n",
    "    primary_key = 0\n",
    "    ins_reader = csv.DictReader(ins_csv)\n",
    "    for row in ins_reader:\n",
    "        if row['region'] == 'southwest':\n",
    "            sw_dict[primary_key] = row\n",
    "            primary_key += 1\n",
    "        elif row['region'] == 'northwest':\n",
    "            nw_dict[primary_key] = row\n",
    "            primary_key += 1\n",
    "        elif row['region'] == 'southeast':\n",
    "            se_dict[primary_key] = row\n",
    "            primary_key += 1\n",
    "        elif row['region'] == 'northeast':\n",
    "            ne_dict[primary_key] = row\n",
    "            primary_key += 1\n",
    "        else:\n",
    "            pass"
   ]
  },
  {
   "cell_type": "markdown",
   "metadata": {},
   "source": [
    "## Using the BmiBreakdown class\n",
    "\n",
    "Let's probe the data a bit, see what we come up with. First, create our objects:"
   ]
  },
  {
   "cell_type": "code",
   "execution_count": 8,
   "metadata": {},
   "outputs": [],
   "source": [
    "sw_bmi_breakdown = BmiBreakdown(sw_dict)\n",
    "nw_bmi_breakdown = BmiBreakdown(nw_dict)\n",
    "se_bmi_breakdown = BmiBreakdown(se_dict)\n",
    "ne_bmi_breakdown = BmiBreakdown(ne_dict)\n"
   ]
  },
  {
   "cell_type": "markdown",
   "metadata": {},
   "source": [
    "\n",
    "### Question 1.a:\n",
    "How fit is each regions under 30 population? How does it compare to those 30 and older? How does each demographic compare to the mean BMI of the region?"
   ]
  },
  {
   "cell_type": "code",
   "execution_count": 10,
   "metadata": {},
   "outputs": [
    {
     "name": "stdout",
     "output_type": "stream",
     "text": [
      "The average bmi of people under 30 in the southwest is: 29.08\n",
      "The average bmi of over the age of 29 in the southwest is: 31.26\n",
      "The average bmi of the region is: 30.6\n",
      "The average bmi of the entire US is: 30.5825\n",
      "\n",
      "The average bmi of people under 30 in the northwest is: 28.54\n",
      "The average bmi of over the age of 29 in the northwest is: 29.5\n",
      "The average bmi of the region is: 29.2\n",
      "The average bmi of the entire US is: 30.5825\n",
      "\n",
      "The average bmi of people under 30 in the southeast is: 33.3\n",
      "The average bmi of over the age of 29 in the southeast is: 33.38\n",
      "The average bmi of the region is: 33.36\n",
      "The average bmi of the entire US is: 30.5825\n",
      "\n",
      "The average bmi of people under 30 in the northeast is: 28.0\n",
      "The average bmi of over the age of 29 in the northeast is: 29.71\n",
      "The average bmi of the region is: 29.17\n",
      "The average bmi of the entire US is: 30.5825\n",
      "\n"
     ]
    }
   ],
   "source": [
    "under_30_avg_bmi_dict = {\n",
    "    'southwest': sw_bmi_breakdown.avg_under_30(),\n",
    "    'northwest': nw_bmi_breakdown.avg_under_30(),\n",
    "    'southeast': se_bmi_breakdown.avg_under_30(),\n",
    "    'northeast': ne_bmi_breakdown.avg_under_30()\n",
    "}\n",
    "\n",
    "over_29_avg_bmi_dict = {\n",
    "    'southwest': sw_bmi_breakdown.avg_over_29(),\n",
    "    'northwest': nw_bmi_breakdown.avg_over_29(),\n",
    "    'southeast': se_bmi_breakdown.avg_over_29(),\n",
    "    'northeast': ne_bmi_breakdown.avg_over_29()\n",
    "}\n",
    "\n",
    "for key in under_30_avg_bmi_dict:\n",
    "    print(\"The average bmi of people under 30 in the \" + key + \" is: \" + str(under_30_avg_bmi_dict[key]))\n",
    "    print(\"The average bmi of over the age of 29 in the \" + key + \" is: \" + str(over_29_avg_bmi_dict[key]))\n",
    "    print(\"The average bmi of the region is: \" + str(avg_bmi_dict[key]))\n",
    "    print(\"The average bmi of the entire US is: \" + str(avg_bmi_dict['entire us']))\n",
    "    print('')\n"
   ]
  },
  {
   "cell_type": "markdown",
   "metadata": {},
   "source": [
    "#### A note: \n",
    "- After completing question 1.a, I think my outputs are a bit verbose and difficult to immediately grasp. Going forward I'm going to assign a *distance from local mean* and *distance to national mean* variable to each demographic.\n",
    "\n",
    "### Question 1.b\n"
   ]
  },
  {
   "cell_type": "markdown",
   "metadata": {},
   "source": [
    "### Take Aways:\n",
    "do later"
   ]
  },
  {
   "cell_type": "markdown",
   "metadata": {},
   "source": [
    "### Question 1.b:\n",
    "idk rn, I'm kinda beat\n",
    "we can reuse the bmiBreakdown class to find out how many smokers there are in each region."
   ]
  },
  {
   "cell_type": "code",
   "execution_count": 15,
   "metadata": {},
   "outputs": [
    {
     "name": "stdout",
     "output_type": "stream",
     "text": [
      "58\n",
      "267\n"
     ]
    }
   ],
   "source": [
    "print(len(sw_bmi_breakdown.smoker_bmi_lst))\n",
    "print(len(sw_bmi_breakdown.nonsmoker_bmi_lst))"
   ]
  },
  {
   "cell_type": "code",
   "execution_count": null,
   "metadata": {},
   "outputs": [],
   "source": []
  },
  {
   "cell_type": "code",
   "execution_count": null,
   "metadata": {},
   "outputs": [],
   "source": []
  },
  {
   "cell_type": "code",
   "execution_count": null,
   "metadata": {},
   "outputs": [],
   "source": []
  }
 ],
 "metadata": {
  "kernelspec": {
   "display_name": "Python 3",
   "language": "python",
   "name": "python3"
  },
  "language_info": {
   "codemirror_mode": {
    "name": "ipython",
    "version": 3
   },
   "file_extension": ".py",
   "mimetype": "text/x-python",
   "name": "python",
   "nbconvert_exporter": "python",
   "pygments_lexer": "ipython3",
   "version": "3.8.3"
  }
 },
 "nbformat": 4,
 "nbformat_minor": 4
}
